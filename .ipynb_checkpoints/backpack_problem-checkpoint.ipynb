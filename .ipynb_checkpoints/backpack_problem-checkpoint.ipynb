{
 "cells": [
  {
   "cell_type": "code",
   "execution_count": 1,
   "metadata": {},
   "outputs": [],
   "source": [
    "import gurobipy as gp"
   ]
  },
  {
   "cell_type": "code",
   "execution_count": 2,
   "metadata": {},
   "outputs": [],
   "source": [
    "items_qtd = 15\n",
    "capacity = 1000\n",
    "\n",
    "# Create item labels\n",
    "items = list()\n",
    "for i in range(items_qtd):\n",
    "    label = \"Item_{}\".format(i + 1)\n",
    "    items.append(label)\n",
    "\n",
    "weight_array = [65, 94, 119, 59, 149, 114, 57, 136, 100, 150, 122, 117, 120, 130, 133]\n",
    "weights = dict()\n",
    "for weight_index, weight_value in enumerate(weight_array):\n",
    "    label = items[weight_index]\n",
    "    weights[label] = weight_value\n",
    "\n",
    "value_array = [455, 691, 833, 425, 1064, 758, 419, 914, 651, 966, 828, 827, 857, 837, 894]\n",
    "values = dict()\n",
    "for value_index, value_value in enumerate(value_array):\n",
    "    label = items[value_index]\n",
    "    values[label] = value_value"
   ]
  },
  {
   "cell_type": "code",
   "execution_count": 3,
   "metadata": {},
   "outputs": [
    {
     "name": "stdout",
     "output_type": "stream",
     "text": [
      "Set parameter WLSAccessID\n",
      "Set parameter WLSSecret\n",
      "Set parameter LicenseID to value 944721\n"
     ]
    },
    {
     "ename": "GurobiError",
     "evalue": "Could not resolve host: token.gurobi.com (code 6, command POST https://token.gurobi.com/api/v1/tokens)",
     "output_type": "error",
     "traceback": [
      "\u001B[0;31m---------------------------------------------------------------------------\u001B[0m",
      "\u001B[0;31mGurobiError\u001B[0m                               Traceback (most recent call last)",
      "Cell \u001B[0;32mIn[3], line 1\u001B[0m\n\u001B[0;32m----> 1\u001B[0m m \u001B[38;5;241m=\u001B[39m \u001B[43mgp\u001B[49m\u001B[38;5;241;43m.\u001B[39;49m\u001B[43mModel\u001B[49m\u001B[43m(\u001B[49m\u001B[38;5;124;43m\"\u001B[39;49m\u001B[38;5;124;43mbackpack problem\u001B[39;49m\u001B[38;5;124;43m\"\u001B[39;49m\u001B[43m)\u001B[49m\n\u001B[1;32m      3\u001B[0m \u001B[38;5;66;03m# Insert decision variables\u001B[39;00m\n\u001B[1;32m      4\u001B[0m x \u001B[38;5;241m=\u001B[39m m\u001B[38;5;241m.\u001B[39maddVars(items, vtype\u001B[38;5;241m=\u001B[39mgp\u001B[38;5;241m.\u001B[39mGRB\u001B[38;5;241m.\u001B[39mBINARY)\n",
      "File \u001B[0;32msrc/gurobipy/model.pxi:69\u001B[0m, in \u001B[0;36mgurobipy.Model.__init__\u001B[0;34m()\u001B[0m\n",
      "File \u001B[0;32msrc/gurobipy/gurobi.pxi:28\u001B[0m, in \u001B[0;36mgurobipy.gurobi._getdefaultenv\u001B[0;34m()\u001B[0m\n",
      "File \u001B[0;32msrc/gurobipy/env.pxi:62\u001B[0m, in \u001B[0;36mgurobipy.Env.__init__\u001B[0;34m()\u001B[0m\n",
      "\u001B[0;31mGurobiError\u001B[0m: Could not resolve host: token.gurobi.com (code 6, command POST https://token.gurobi.com/api/v1/tokens)"
     ]
    }
   ],
   "source": [
    "m = gp.Model(\"backpack problem\")\n",
    "\n",
    "# Insert decision variables\n",
    "x = m.addVars(items, vtype=gp.GRB.BINARY)\n",
    "\n",
    "# Objective function\n",
    "m.setObjective(\n",
    "    gp.quicksum(x[i] * values[i] for i in items),\n",
    "    sense=gp.GRB.MAXIMIZE\n",
    ")\n",
    "\n",
    "# Capacity restriction\n",
    "c = m.addConstr(\n",
    "    gp.quicksum(x[i] * weights[i] for i in items) <= capacity\n",
    ")\n",
    "\n",
    "m.optimize()"
   ]
  },
  {
   "cell_type": "code",
   "execution_count": null,
   "metadata": {},
   "outputs": [],
   "source": [
    "for item in items:\n",
    "    if round(x[item].X) == 1:\n",
    "        print(item)"
   ]
  },
  {
   "cell_type": "code",
   "execution_count": null,
   "metadata": {},
   "outputs": [],
   "source": [
    "print(\"Valor total:\", m.objVal)\n",
    "print(\"Capacidade utilizada:\", capacity - c.Slack)"
   ]
  },
  {
   "cell_type": "markdown",
   "metadata": {},
   "source": []
  }
 ],
 "metadata": {
  "kernelspec": {
   "display_name": "Python 3 (ipykernel)",
   "language": "python",
   "name": "python3"
  },
  "language_info": {
   "codemirror_mode": {
    "name": "ipython",
    "version": 3
   },
   "file_extension": ".py",
   "mimetype": "text/x-python",
   "name": "python",
   "nbconvert_exporter": "python",
   "pygments_lexer": "ipython3",
   "version": "3.9.6"
  }
 },
 "nbformat": 4,
 "nbformat_minor": 1
}
